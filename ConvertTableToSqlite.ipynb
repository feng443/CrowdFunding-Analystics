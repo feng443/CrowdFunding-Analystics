{
 "cells": [
  {
   "cell_type": "markdown",
   "metadata": {},
   "source": [
    "# Convert table to SQLite\n",
    "Due to limitation of Heroku, we are unable to use MySQL nor Postgres as our dat size is larger than the upper limit of free tier. Thus we create this utility to convert tables into sqllite"
   ]
  },
  {
   "cell_type": "code",
   "execution_count": 2,
   "metadata": {},
   "outputs": [],
   "source": [
    "from datetime import datetime, timezone\n",
    "import math\n",
    "\n",
    "import numpy as np\n",
    "import pandas as pd\n",
    "\n",
    "from os import path\n",
    "from pathlib import Path\n",
    "\n",
    "import sqlalchemy as sa\n",
    "from sqlalchemy import create_engine, Column, Integer, String, Table, MetaData\n",
    "from sqlalchemy.orm import sessionmaker\n",
    "from sqlalchemy.ext.declarative import declarative_base\n",
    "\n",
    "import pymysql\n",
    "pymysql.install_as_MySQLdb()\n",
    "\n",
    "from config import MYSQL_URL\n",
    "\n",
    "source_engine = create_engine(MYSQL_URL, encoding='utf-8')\n",
    "source_session = sessionmaker(source_engine)\n",
    "\n",
    "target_engine = create_engine(\"sqlite:///db/kiva.sqlite\")\n",
    "target_session = sessionmaker(target_engine)\n",
    "\n",
    "\n",
    "sqlite_conn = target_engine.connect()\n",
    "mysql_conn = source_engine.connect()\n",
    "\n",
    "metadata = MetaData()\n"
   ]
  },
  {
   "cell_type": "code",
   "execution_count": null,
   "metadata": {},
   "outputs": [],
   "source": []
  },
  {
   "cell_type": "code",
   "execution_count": 3,
   "metadata": {},
   "outputs": [],
   "source": [
    "tables = [\n",
    "    'monthly_loan_lender_summary',\n",
    "    'monthly_loan_summary',\n",
    "    'country',\n",
    "    'country_gdp'\n",
    "]"
   ]
  },
  {
   "cell_type": "code",
   "execution_count": 10,
   "metadata": {},
   "outputs": [],
   "source": [
    "def load_table(table, source_engine, target_engine):\n",
    "    df = pd.read_sql_table(table, source_engine)\n",
    "    df.to_sql(table, target_engine, if_exists='replace')"
   ]
  },
  {
   "cell_type": "code",
   "execution_count": 13,
   "metadata": {},
   "outputs": [
    {
     "name": "stdout",
     "output_type": "stream",
     "text": [
      "monthly_loan_lender_summary\n",
      "monthly_loan_summary\n",
      "country\n",
      "country_gdp\n"
     ]
    }
   ],
   "source": [
    "for table in tables:\n",
    "    print(table)\n",
    "    load_table(table, source_engine, target_engine)"
   ]
  },
  {
   "cell_type": "code",
   "execution_count": null,
   "metadata": {},
   "outputs": [],
   "source": []
  }
 ],
 "metadata": {
  "kernelspec": {
   "display_name": "Python 3",
   "language": "python",
   "name": "python3"
  },
  "language_info": {
   "codemirror_mode": {
    "name": "ipython",
    "version": 3
   },
   "file_extension": ".py",
   "mimetype": "text/x-python",
   "name": "python",
   "nbconvert_exporter": "python",
   "pygments_lexer": "ipython3",
   "version": "3.6.4"
  }
 },
 "nbformat": 4,
 "nbformat_minor": 2
}
