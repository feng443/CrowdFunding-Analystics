{
 "cells": [
  {
   "cell_type": "markdown",
   "metadata": {},
   "source": [
    "# Data Prepare and Exploring\n",
    "## Download Data\n",
    "Before running this, download \n",
    "\n",
    "http://s3.kiva.org/snapshots/kiva_ds_csv.zip\n",
    "\n",
    "to Dwonloads subdir of your home directory. Then extract the zip file in the same diretory.\n",
    "\n",
    "This script should work for both Windows and Mac OS, as long as you follow the above instructions.\n",
    "# Create sqlite\n",
    "create db/kiva_data.sqlite"
   ]
  },
  {
   "cell_type": "code",
   "execution_count": 3,
   "metadata": {},
   "outputs": [],
   "source": [
    "import numpy as np\n",
    "import pandas as pd\n",
    "from os import path\n",
    "from pathlib import Path\n",
    "import sqlalchemy as sa\n",
    "from datetime import datetime\n",
    "from sqlalchemy import create_engine\n",
    "\n",
    "engine = create_engine(\"sqlite:///db/kiva_data.sqlite\")\n",
    "\n",
    "HOME_DIR = str(Path.home())\n",
    "\n",
    "KIVA_PATH = path.join(HOME_DIR, 'Downloads', 'kiva_ds_csv')"
   ]
  },
  {
   "cell_type": "markdown",
   "metadata": {},
   "source": [
    "## Load lenders into DB"
   ]
  },
  {
   "cell_type": "code",
   "execution_count": 5,
   "metadata": {},
   "outputs": [],
   "source": [
    "lender_df = pd.read_csv(path.join(KIVA_PATH, 'lenders.csv'))\n",
    "lender_df.columns = map(str.lower, lender_df.columns)\n",
    "\n",
    "# member_since is UTC time, change to standard format\n",
    "lender_df.loc[:, 'member_since'] = lender_df['member_since'].map(lambda x: datetime.utcfromtimestamp(x))\n",
    "\n",
    "# Assign numeric ID to lender to reduce space needed for loan_lender table\n",
    "lender_df = lender_df.assign(lender_id=np.arange(len(lender_df)))\n",
    "lender_df = lender_df[['lender_id', 'permanent_name', 'display_name', 'city', 'state', 'country_code', 'member_since']]\n",
    "lender_df.to_sql('lender', engine, if_exists='replace')"
   ]
  },
  {
   "cell_type": "markdown",
   "metadata": {},
   "source": [
    "## Load loans into DB"
   ]
  },
  {
   "cell_type": "code",
   "execution_count": 6,
   "metadata": {},
   "outputs": [],
   "source": [
    "loan_df = pd.read_csv(path.join(KIVA_PATH, 'loans.csv'))\n",
    "\n",
    "loan_df.columns = map(str.lower, loan_df.columns)\n",
    "\n",
    "## Convert gender to be F(femal), M(male) or U (unknown)\n",
    "def map_gender(x):\n",
    "    if (isinstance(x, str)): \n",
    "        return 'F' if x.startswith('female') else 'M'\n",
    "    else:\n",
    "        return 'U'\n",
    "    \n",
    "loan_df.loc[:, 'gender'] = loan_df['borrower_genders'].map(map_gender)    \n",
    "\n",
    "# Write only needed column to DB as number of rows is large\n",
    "loan_df = loan_df[['loan_id', 'loan_name', 'loan_amount', 'gender', 'country_code', 'posted_time']]\n",
    "loan_df.to_sql('loan', engine,  if_exists='replace')"
   ]
  },
  {
   "cell_type": "markdown",
   "metadata": {},
   "source": [
    "## Load loan lender links to DB"
   ]
  },
  {
   "cell_type": "code",
   "execution_count": 7,
   "metadata": {},
   "outputs": [],
   "source": [
    "loan_lender_df = pd.read_csv(path.join(KIVA_PATH, 'loans_lenders.csv'))\n",
    "loan_lender_df.columns = map(str.lower, loan_lender_df.columns)\n",
    "\n",
    "# break lenders into lender_list\n",
    "loan_lender_df['lender_list'] = loan_lender_df['lenders'].map(\n",
    "    lambda x: x.split(', ')\n",
    ")\n",
    "\n",
    "# Build a quick lookup from lender name to ID\n",
    "lender_id_lookup = {\n",
    "    x['permanent_name']: x['lender_id']\n",
    "    for i, x in lender_df.iterrows()\n",
    "}\n",
    "\n",
    "# Convert lender names to lender ID's\n",
    "loan_lender_df['lender_id_list'] = loan_lender_df['lender_list'].map(\n",
    "    lambda lenders: [lender_id_lookup.get(lender, 0) for lender in lenders]\n",
    ")\n",
    "\n",
    "# Create a new data frame holding loan_id and lender_id\n",
    "df = loan_lender_df[['loan_id', 'lender_id_list']]\n",
    "\n",
    "# Create loan_id_list same len as lender_id_list\n",
    "df.loc[:, 'loan_id_list'] = df.apply(lambda x: [x[0]] * len(x[1]), axis=1, reduce=True)\n",
    "\n",
    "# Ref: https://stackoverflow.com/questions/35004945/python-pandas-reduce-function-for-series\n",
    "from itertools import chain # Based on stackoverflow, chain is 68x faster than reduce\n",
    "\n",
    "combo_df = pd.DataFrame( {\n",
    "    'lender_id': list(chain(*df['lender_id_list'])),\n",
    "    'loan_id': list(chain(*df['loan_id_list'])),\n",
    "})\n",
    "\n",
    "# Write to database table\n",
    "combo_df.to_sql('loan_lender', engine, if_exists='replace')"
   ]
  },
  {
   "cell_type": "code",
   "execution_count": null,
   "metadata": {},
   "outputs": [],
   "source": []
  }
 ],
 "metadata": {
  "kernelspec": {
   "display_name": "Python 3",
   "language": "python",
   "name": "python3"
  },
  "language_info": {
   "codemirror_mode": {
    "name": "ipython",
    "version": 3
   },
   "file_extension": ".py",
   "mimetype": "text/x-python",
   "name": "python",
   "nbconvert_exporter": "python",
   "pygments_lexer": "ipython3",
   "version": "3.6.4"
  }
 },
 "nbformat": 4,
 "nbformat_minor": 2
}
