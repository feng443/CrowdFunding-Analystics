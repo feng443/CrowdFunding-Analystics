{
 "cells": [
  {
   "cell_type": "markdown",
   "metadata": {},
   "source": [
    "# Data Prepare and Exploring\n",
    "## Download Data\n",
    "Before running this, download \n",
    "\n",
    "http://s3.kiva.org/snapshots/kiva_ds_csv.zip\n",
    "\n",
    "to Dwonloads subdir of your home directory. Then extract the zip file in the same diretory.\n",
    "\n",
    "This script should work for both Windows and Mac OS, as long as you follow the above instructions.\n",
    "# Create sqlite\n",
    "create db/kiva_data.sqlite"
   ]
  },
  {
   "cell_type": "code",
   "execution_count": 11,
   "metadata": {},
   "outputs": [],
   "source": [
    "from datetime import datetime, timezone\n",
    "import math\n",
    "\n",
    "import numpy as np\n",
    "import pandas as pd\n",
    "\n",
    "from os import path\n",
    "from pathlib import Path\n",
    "\n",
    "import sqlalchemy as sa\n",
    "from sqlalchemy import create_engine, Table, MetaData\n",
    "from sqlalchemy.orm import sessionmaker\n",
    "\n",
    "import pymysql\n",
    "pymysql.install_as_MySQLdb()\n",
    "\n",
    "from config import MYSQL_URL\n",
    "\n",
    "DB = 'sqlite'\n",
    "\n",
    "if DB != 'mysql':\n",
    "    engine = create_engine(\"sqlite:///db/kiva.sqlite\")\n",
    "else:\n",
    "    engine = create_engine(MYSQL_URL, encoding='utf-8')\n",
    "\n",
    "conn = engine.connect()\n",
    "metadata = MetaData()\n",
    "\n",
    "HOME_DIR = str(Path.home())\n",
    "KIVA_PATH = path.join(HOME_DIR, 'Downloads', 'kiva_ds_csv')"
   ]
  },
  {
   "cell_type": "markdown",
   "metadata": {},
   "source": [
    "## Load lenders into DB"
   ]
  },
  {
   "cell_type": "code",
   "execution_count": 12,
   "metadata": {},
   "outputs": [],
   "source": [
    "lender_df = pd.read_csv(path.join(KIVA_PATH, 'lenders.csv')) #.head(1000)\n",
    "lender_df.columns = map(str.lower, lender_df.columns)\n",
    "\n",
    "# member_since is UTC time, change to standard format\n",
    "lender_df.loc[:, 'member_since'] = lender_df['member_since'].map(lambda x: datetime.utcfromtimestamp(x))\n",
    "\n",
    "# Assign numeric ID to lender to reduce space needed for loan_lender table\n",
    "lender_df = lender_df.assign(lender_id=np.arange(len(lender_df)))\n",
    "lender_df = lender_df[['lender_id', 'permanent_name', 'display_name', 'city', 'state', 'country_code', 'member_since']]\n",
    "\n",
    "if DB == 'mysql':\n",
    "    conn.execute('truncate lender')\n",
    "else:\n",
    "    conn.execute('delete from lender')\n",
    "    \n",
    "lender_df.to_sql('lender', engine, if_exists='append', index=False)"
   ]
  },
  {
   "cell_type": "markdown",
   "metadata": {},
   "source": [
    "## Load loans into DB"
   ]
  },
  {
   "cell_type": "code",
   "execution_count": 13,
   "metadata": {},
   "outputs": [],
   "source": [
    "loan_df = pd.read_csv(path.join(KIVA_PATH, 'loans.csv')) #.head(1000)\n",
    "loan_df.columns = map(str.lower, loan_df.columns)\n",
    "\n",
    "## Convert gender to be F(femal), M(male) or U (unknown)\n",
    "def map_gender(x):\n",
    "    if (isinstance(x, str)): \n",
    "        return 'F' if x.startswith('female') else 'M'\n",
    "    else:\n",
    "        return 'U'\n",
    "    \n",
    "loan_df.loc[:, 'gender'] = loan_df['borrower_genders'].map(map_gender)    \n",
    "\n",
    "# Write only needed column to DB as number of rows is large\n",
    "loan_df = loan_df[['loan_id', 'loan_name', 'loan_amount', 'gender', 'country_code', 'posted_time']]\n",
    "\n",
    "# Trim datetime to avoid issue with Mysql\n",
    "loan_df.loc[:, 'posted_time'] = loan_df['posted_time'].map(lambda x: x[:len('2014-01-15 02:23:45')])    \n",
    "\n",
    "if DB == 'mysql':\n",
    "    conn.execute('truncate loan')\n",
    "else:\n",
    "    conn.execute('delete from loan')\n",
    "    \n",
    "\n",
    "loan_df.to_sql('loan', engine,  if_exists='append', index=False)"
   ]
  },
  {
   "cell_type": "markdown",
   "metadata": {},
   "source": [
    "## Load loan lender links to DB"
   ]
  },
  {
   "cell_type": "code",
   "execution_count": 14,
   "metadata": {},
   "outputs": [],
   "source": [
    "loan_lender_df = pd.read_csv(path.join(KIVA_PATH, 'loans_lenders.csv'))#.head(1000)\n",
    "loan_lender_df.columns = map(str.lower, loan_lender_df.columns)\n",
    "\n",
    "# break lenders into lender_list\n",
    "loan_lender_df.loc[:, 'lender_list'] = loan_lender_df['lenders'].map(\n",
    "    lambda x: x.split(', ')\n",
    ")"
   ]
  },
  {
   "cell_type": "code",
   "execution_count": 15,
   "metadata": {},
   "outputs": [],
   "source": [
    "# Build a quick lookup from lender name to ID\n",
    "lender_id_lookup = {\n",
    "    x['permanent_name']: x['lender_id']\n",
    "    for i, x in lender_df.iterrows()\n",
    "}"
   ]
  },
  {
   "cell_type": "code",
   "execution_count": 16,
   "metadata": {},
   "outputs": [],
   "source": [
    "# Convert lender names to lender ID's\n",
    "loan_lender_df.loc[:, 'lender_id_list'] = loan_lender_df['lender_list'].map(\n",
    "    lambda lenders: [lender_id_lookup.get(lender, 0) for lender in lenders]\n",
    ")"
   ]
  },
  {
   "cell_type": "code",
   "execution_count": 17,
   "metadata": {},
   "outputs": [],
   "source": [
    "# Create a new data frame holding loan_id and lender_id\n",
    "df = loan_lender_df[['loan_id', 'lender_id_list']]"
   ]
  },
  {
   "cell_type": "code",
   "execution_count": 18,
   "metadata": {},
   "outputs": [
    {
     "name": "stderr",
     "output_type": "stream",
     "text": [
      "C:\\Users\\feng443\\Anaconda3\\envs\\PythonData\\lib\\site-packages\\pandas\\core\\indexing.py:357: SettingWithCopyWarning: \n",
      "A value is trying to be set on a copy of a slice from a DataFrame.\n",
      "Try using .loc[row_indexer,col_indexer] = value instead\n",
      "\n",
      "See the caveats in the documentation: http://pandas.pydata.org/pandas-docs/stable/indexing.html#indexing-view-versus-copy\n",
      "  self.obj[key] = _infer_fill_value(value)\n",
      "C:\\Users\\feng443\\Anaconda3\\envs\\PythonData\\lib\\site-packages\\pandas\\core\\indexing.py:537: SettingWithCopyWarning: \n",
      "A value is trying to be set on a copy of a slice from a DataFrame.\n",
      "Try using .loc[row_indexer,col_indexer] = value instead\n",
      "\n",
      "See the caveats in the documentation: http://pandas.pydata.org/pandas-docs/stable/indexing.html#indexing-view-versus-copy\n",
      "  self.obj[item] = s\n"
     ]
    }
   ],
   "source": [
    "# Create loan_id_list same len as lender_id_list\n",
    "df.loc[:, 'loan_id_list'] = df.apply(lambda x: [x[0]] * len(x[1]), axis=1, reduce=True)"
   ]
  },
  {
   "cell_type": "code",
   "execution_count": 19,
   "metadata": {},
   "outputs": [],
   "source": [
    "# Ref: https://stackoverflow.com/questions/35004945/python-pandas-reduce-function-for-series\n",
    "from itertools import chain # Based on stackoverflow, chain is 68x faster than reduce"
   ]
  },
  {
   "cell_type": "code",
   "execution_count": 20,
   "metadata": {},
   "outputs": [],
   "source": [
    "combo_df = pd.DataFrame( {\n",
    "    'loan_id': list(chain(*df.loc[:, 'loan_id_list'])),\n",
    "    'lender_id': list(chain(*df.loc[:, 'lender_id_list'])),\n",
    "})"
   ]
  },
  {
   "cell_type": "code",
   "execution_count": 21,
   "metadata": {},
   "outputs": [
    {
     "name": "stdout",
     "output_type": "stream",
     "text": [
      "0: 274590\n",
      "274590: 549180\n",
      "549180: 823770\n",
      "823770: 1098360\n",
      "1098360: 1372950\n",
      "1372950: 1647540\n",
      "1647540: 1922130\n",
      "1922130: 2196720\n",
      "2196720: 2471310\n",
      "2471310: 2745900\n",
      "2745900: 3020490\n",
      "3020490: 3295080\n",
      "3295080: 3569670\n",
      "3569670: 3844260\n",
      "3844260: 4118850\n",
      "4118850: 4393440\n",
      "4393440: 4668030\n",
      "4668030: 4942620\n",
      "4942620: 5217210\n",
      "5217210: 5491800\n",
      "5491800: 5766390\n",
      "5766390: 6040980\n",
      "6040980: 6315570\n",
      "6315570: 6590160\n",
      "6590160: 6864750\n",
      "6864750: 7139340\n",
      "7139340: 7413930\n",
      "7413930: 7688520\n",
      "7688520: 7963110\n",
      "7963110: 8237700\n",
      "8237700: 8512290\n",
      "8512290: 8786880\n",
      "8786880: 9061470\n",
      "9061470: 9336060\n",
      "9336060: 9610650\n",
      "9610650: 9885240\n",
      "9885240: 10159830\n",
      "10159830: 10434420\n",
      "10434420: 10709010\n",
      "10709010: 10983600\n",
      "10983600: 11258190\n",
      "11258190: 11532780\n",
      "11532780: 11807370\n",
      "11807370: 12081960\n",
      "12081960: 12356550\n",
      "12356550: 12631140\n",
      "12631140: 12905730\n",
      "12905730: 13180320\n",
      "13180320: 13454910\n",
      "13454910: 13729500\n",
      "13729500: 14004090\n",
      "14004090: 14278680\n",
      "14278680: 14553270\n",
      "14553270: 14827860\n",
      "14827860: 15102450\n",
      "15102450: 15377040\n",
      "15377040: 15651630\n",
      "15651630: 15926220\n",
      "15926220: 16200810\n",
      "16200810: 16475400\n",
      "16475400: 16749990\n",
      "16749990: 17024580\n",
      "17024580: 17299170\n",
      "17299170: 17573760\n",
      "17573760: 17848350\n",
      "17848350: 18122940\n",
      "18122940: 18397530\n",
      "18397530: 18672120\n",
      "18672120: 18946710\n",
      "18946710: 19221300\n",
      "19221300: 19495890\n",
      "19495890: 19770480\n",
      "19770480: 20045070\n",
      "20045070: 20319660\n",
      "20319660: 20594250\n",
      "20594250: 20868840\n",
      "20868840: 21143430\n",
      "21143430: 21418020\n",
      "21418020: 21692610\n",
      "21692610: 21967200\n",
      "21967200: 22241790\n",
      "22241790: 22516380\n",
      "22516380: 22790970\n",
      "22790970: 23065560\n",
      "23065560: 23340150\n",
      "23340150: 23614740\n",
      "23614740: 23889330\n",
      "23889330: 24163920\n",
      "24163920: 24438510\n",
      "24438510: 24713100\n",
      "24713100: 24987690\n",
      "24987690: 25262280\n",
      "25262280: 25536870\n",
      "25536870: 25811460\n",
      "25811460: 26086050\n",
      "26086050: 26360640\n",
      "26360640: 26635230\n",
      "26635230: 26909820\n",
      "26909820: 27184410\n",
      "27184410: 27459000\n",
      "27459000: 27459086\n",
      "Done\n"
     ]
    }
   ],
   "source": [
    "# Write to database table\n",
    "# Disable constraint before insert to speed up performance\n",
    "#combo_df.to_sql('loan_lender', engine, if_exists='append', index=False)\n",
    "#insert_df(combo_df, 'loan_lender', engine, if_exists='append', index=False)\n",
    "\n",
    "combo_df = combo_df.drop_duplicates()\n",
    "\n",
    "def bulk_insert_df(df, table_name):\n",
    "    Session = sessionmaker(bind=engine)\n",
    "    session = Session()\n",
    "    table = Table(table_name, metadata, autoload=True, autoload_with=engine)\n",
    "    \n",
    "    parts = 100\n",
    "    chunksize = math.floor(df.shape[0] / parts)\n",
    "    chunks = [(chunksize * i, (chunksize * i) + chunksize) for i in range(parts)]\n",
    "    if chunksize * parts < df.shape[0]:\n",
    "        chunks.append((chunksize * parts, df.shape[0]))\n",
    "  \n",
    "    \n",
    "    for chunk in chunks:\n",
    "        i, j = chunk\n",
    "        print(f'{i}: {j}')\n",
    "        listToWrite = df.iloc[i:j, :].to_dict(orient='records')\n",
    "        listToWrite = [ {y: int(z)  for y,z in x.items()} for x in listToWrite]\n",
    "        conn.execute(table.insert(), listToWrite)\n",
    "        session.commit()\n",
    "    \n",
    "    session.close()\n",
    "    \n",
    "if DB == 'mysql':\n",
    "    conn.execute('truncate loan_lender')\n",
    "else:\n",
    "    conn.execute('delete from loan_lender')\n",
    "bulk_insert_df(combo_df.astype('int'), 'loan_lender')\n",
    "print('Done')"
   ]
  },
  {
   "cell_type": "code",
   "execution_count": 22,
   "metadata": {},
   "outputs": [],
   "source": [
    "conn.close()"
   ]
  },
  {
   "cell_type": "code",
   "execution_count": null,
   "metadata": {},
   "outputs": [],
   "source": []
  }
 ],
 "metadata": {
  "kernelspec": {
   "display_name": "Python 3",
   "language": "python",
   "name": "python3"
  },
  "language_info": {
   "codemirror_mode": {
    "name": "ipython",
    "version": 3
   },
   "file_extension": ".py",
   "mimetype": "text/x-python",
   "name": "python",
   "nbconvert_exporter": "python",
   "pygments_lexer": "ipython3",
   "version": "3.6.4"
  }
 },
 "nbformat": 4,
 "nbformat_minor": 2
}
