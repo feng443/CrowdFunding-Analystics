{
 "cells": [
  {
   "cell_type": "markdown",
   "metadata": {},
   "source": [
    "# Populate country and GDP\n",
    "Pleae run kiva data population first.\n",
    "\n",
    "This script take unique country code from Kiva data, load the country name and GDP for years after 2006 into country and country_gdp tables.\n",
    "\n",
    "Instead of ORM, use SQL Expression Language to run queries. Also table reflection is been used. ORM is better suited to handle individual rows, and SQL Expression is better in run analytic queries and batch opertions. \n",
    "\n",
    "\n",
    "TODO: Logic: \n",
    "\n",
    "1) Get list of country_code from lenders\n",
    "2) Get country code, name, lon/lat, and income_level from COUNTRY_URL\n",
    "3) Get GDP for each year from wbdata API\n",
    " "
   ]
  },
  {
   "cell_type": "code",
   "execution_count": 100,
   "metadata": {},
   "outputs": [],
   "source": [
    "import wbdata\n",
    "import numpy as np\n",
    "import pandas as pd\n",
    "import sqlalchemy as sa\n",
    "from sqlalchemy import create_engine, Table, MetaData\n",
    "from sqlalchemy.sql import select\n",
    "import pymysql\n",
    "import requests\n",
    "import json\n",
    "\n",
    "pymysql.install_as_MySQLdb()\n",
    "from config import MYSQL_URL\n",
    "engine = create_engine(MYSQL_URL, encoding='utf-8')\n",
    "conn = engine.connect()\n",
    "\n",
    "metadata = MetaData()\n",
    "\n",
    "COUNTRY_URL = 'http://api.worldbank.org/v2/countries/{}?format=json'"
   ]
  },
  {
   "cell_type": "code",
   "execution_count": 18,
   "metadata": {},
   "outputs": [],
   "source": [
    "# Table reflection\n",
    "lender = Table('lender', metadata, autoload=True, autoload_with=engine)\n",
    "country = Table('country', metadata, autoload=True, autoload_with=engine)\n",
    "country_gdp = Table('country_gdp', metadata, autoload=True, autoload_with=engine)"
   ]
  },
  {
   "cell_type": "code",
   "execution_count": 35,
   "metadata": {
    "scrolled": true
   },
   "outputs": [],
   "source": [
    "country_code_list = pd.read_sql(select([lender.c.country_code]).distinct(), engine)['country_code'].tolist()"
   ]
  },
  {
   "cell_type": "markdown",
   "metadata": {},
   "source": [
    "## Load country table"
   ]
  },
  {
   "cell_type": "code",
   "execution_count": 46,
   "metadata": {},
   "outputs": [],
   "source": [
    "country_df = pd.DataFrame(columns=[\n",
    "    'country_code',\n",
    "    'country_name',\n",
    "    'income_level',\n",
    "    'longitude',\n",
    "    'latitude'])"
   ]
  },
  {
   "cell_type": "code",
   "execution_count": 110,
   "metadata": {},
   "outputs": [
    {
     "name": "stdout",
     "output_type": "stream",
     "text": [
      "error with country AI\n",
      "error with country AN\n",
      "error with country AQ\n",
      "error with country BV\n",
      "error with country CK\n",
      "error with country CS\n",
      "error with country CX\n",
      "error with country EH\n",
      "error with country FK\n",
      "error with country GF\n",
      "error with country GP\n",
      "error with country GS\n",
      "error with country IO\n",
      "error with country MQ\n",
      "error with country MS\n",
      "error with country NF\n",
      "error with country NU\n",
      "error with country PN\n",
      "error with country RE\n",
      "error with country SH\n",
      "error with country SJ\n",
      "error with country TF\n",
      "error with country TK\n",
      "error with country UM\n",
      "error with country VA\n",
      "error with country WF\n",
      "error with country YT\n"
     ]
    }
   ],
   "source": [
    "for country in country_code_list[1:]:\n",
    "    if country is None:\n",
    "        continue\n",
    "    r = requests.get(COUNTRY_URL.format(country))\n",
    "    try:\n",
    "        data = r.json()[1][0]\n",
    "        country_df = country_df.append(dict(\n",
    "            country_code=country,\n",
    "            income_level=data['incomeLevel']['value'],\n",
    "            country_name=data['name'],\n",
    "            latitude=data['latitude'] or None,\n",
    "            longitude=data['longitude'] or None), \n",
    "                         ignore_index=True)\n",
    "    except:\n",
    "        print('Unable to find country ' + country + ', skip.')\n",
    "        "
   ]
  },
  {
   "cell_type": "code",
   "execution_count": 111,
   "metadata": {},
   "outputs": [],
   "source": [
    "country_df = country_df.replace(r'^\\s*$', np.nan, regex=True).drop_duplicates()"
   ]
  },
  {
   "cell_type": "code",
   "execution_count": 112,
   "metadata": {},
   "outputs": [],
   "source": [
    "conn.execute('truncate country')\n",
    "country_df.to_sql('country', engine, if_exists='append', index=False)"
   ]
  },
  {
   "cell_type": "markdown",
   "metadata": {},
   "source": [
    "## Load country_gdp table"
   ]
  },
  {
   "cell_type": "code",
   "execution_count": 113,
   "metadata": {},
   "outputs": [],
   "source": [
    "gdp_df = pd.DataFrame(columns=['country_code', 'year', 'gdp'])"
   ]
  },
  {
   "cell_type": "code",
   "execution_count": 114,
   "metadata": {},
   "outputs": [
    {
     "name": "stdout",
     "output_type": "stream",
     "text": [
      "'NoneType' object is not iterable\n",
      "'NoneType' object is not iterable\n",
      "list index out of range\n",
      "list index out of range\n",
      "list index out of range\n",
      "list index out of range\n",
      "list index out of range\n",
      "list index out of range\n",
      "list index out of range\n",
      "list index out of range\n",
      "list index out of range\n",
      "list index out of range\n",
      "list index out of range\n",
      "list index out of range\n",
      "list index out of range\n",
      "list index out of range\n",
      "list index out of range\n",
      "list index out of range\n",
      "list index out of range\n",
      "list index out of range\n",
      "list index out of range\n",
      "list index out of range\n",
      "list index out of range\n",
      "'NoneType' object is not iterable\n",
      "list index out of range\n",
      "list index out of range\n",
      "list index out of range\n",
      "'NoneType' object is not iterable\n"
     ]
    }
   ],
   "source": [
    "for country_code in country_code_list:\n",
    "    if country_code is None:\n",
    "        continue\n",
    "    try:\n",
    "        for row in wbdata.get_data(\"NY.GDP.PCAP.CD\", country=country_code):\n",
    "            gdp_df = gdp_df.append({\n",
    "                'country_code': country_code,\n",
    "                'year': row['date'],\n",
    "                'gdp': row['value']\n",
    "            }, ignore_index=True)\n",
    "    except Exception as e:\n",
    "        print(e)"
   ]
  },
  {
   "cell_type": "code",
   "execution_count": 115,
   "metadata": {},
   "outputs": [
    {
     "data": {
      "text/html": [
       "<div>\n",
       "<style scoped>\n",
       "    .dataframe tbody tr th:only-of-type {\n",
       "        vertical-align: middle;\n",
       "    }\n",
       "\n",
       "    .dataframe tbody tr th {\n",
       "        vertical-align: top;\n",
       "    }\n",
       "\n",
       "    .dataframe thead th {\n",
       "        text-align: right;\n",
       "    }\n",
       "</style>\n",
       "<table border=\"1\" class=\"dataframe\">\n",
       "  <thead>\n",
       "    <tr style=\"text-align: right;\">\n",
       "      <th></th>\n",
       "      <th>country_code</th>\n",
       "      <th>year</th>\n",
       "      <th>gdp</th>\n",
       "    </tr>\n",
       "  </thead>\n",
       "  <tbody>\n",
       "    <tr>\n",
       "      <th>0</th>\n",
       "      <td>AD</td>\n",
       "      <td>2017</td>\n",
       "      <td>None</td>\n",
       "    </tr>\n",
       "    <tr>\n",
       "      <th>1</th>\n",
       "      <td>AD</td>\n",
       "      <td>2016</td>\n",
       "      <td>36988.6220301891</td>\n",
       "    </tr>\n",
       "    <tr>\n",
       "      <th>2</th>\n",
       "      <td>AD</td>\n",
       "      <td>2015</td>\n",
       "      <td>36038.2676044596</td>\n",
       "    </tr>\n",
       "    <tr>\n",
       "      <th>3</th>\n",
       "      <td>AD</td>\n",
       "      <td>2014</td>\n",
       "      <td>42294.9947269717</td>\n",
       "    </tr>\n",
       "    <tr>\n",
       "      <th>4</th>\n",
       "      <td>AD</td>\n",
       "      <td>2013</td>\n",
       "      <td>40619.7112977795</td>\n",
       "    </tr>\n",
       "  </tbody>\n",
       "</table>\n",
       "</div>"
      ],
      "text/plain": [
       "  country_code  year               gdp\n",
       "0           AD  2017              None\n",
       "1           AD  2016  36988.6220301891\n",
       "2           AD  2015  36038.2676044596\n",
       "3           AD  2014  42294.9947269717\n",
       "4           AD  2013  40619.7112977795"
      ]
     },
     "execution_count": 115,
     "metadata": {},
     "output_type": "execute_result"
    }
   ],
   "source": [
    "gdp_df.head()"
   ]
  },
  {
   "cell_type": "code",
   "execution_count": 116,
   "metadata": {},
   "outputs": [],
   "source": [
    "gdp_df = gdp_df.dropna()"
   ]
  },
  {
   "cell_type": "code",
   "execution_count": 119,
   "metadata": {},
   "outputs": [],
   "source": [
    "# Only load GDP on and after 2006 as Kiva data go back to 2006\n",
    "conn.execute('truncate country_gdp')\n",
    "gdp_df.query('year >= \"2006\"').to_sql('country_gdp', engine, if_exists='append', index=False)\n"
   ]
  }
 ],
 "metadata": {
  "kernelspec": {
   "display_name": "Python 3",
   "language": "python",
   "name": "python3"
  },
  "language_info": {
   "codemirror_mode": {
    "name": "ipython",
    "version": 3
   },
   "file_extension": ".py",
   "mimetype": "text/x-python",
   "name": "python",
   "nbconvert_exporter": "python",
   "pygments_lexer": "ipython3",
   "version": "3.6.4"
  }
 },
 "nbformat": 4,
 "nbformat_minor": 2
}
